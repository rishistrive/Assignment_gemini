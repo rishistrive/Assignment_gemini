{
 "cells": [
  {
   "cell_type": "code",
   "execution_count": 65,
   "metadata": {},
   "outputs": [
    {
     "name": "stdout",
     "output_type": "stream",
     "text": [
      "Defaulting to user installation because normal site-packages is not writeable\n",
      "Requirement already satisfied: google-generativeai in /home/developer/.local/lib/python3.12/site-packages (0.8.3)\n",
      "Requirement already satisfied: pinecone-client in /home/developer/.local/lib/python3.12/site-packages (5.0.1)\n",
      "Requirement already satisfied: google-ai-generativelanguage==0.6.10 in /home/developer/.local/lib/python3.12/site-packages (from google-generativeai) (0.6.10)\n",
      "Requirement already satisfied: google-api-core in /home/developer/.local/lib/python3.12/site-packages (from google-generativeai) (2.20.0)\n",
      "Requirement already satisfied: google-api-python-client in /home/developer/.local/lib/python3.12/site-packages (from google-generativeai) (2.148.0)\n",
      "Requirement already satisfied: google-auth>=2.15.0 in /home/developer/.local/lib/python3.12/site-packages (from google-generativeai) (2.35.0)\n",
      "Requirement already satisfied: protobuf in /home/developer/.local/lib/python3.12/site-packages (from google-generativeai) (5.28.2)\n",
      "Requirement already satisfied: pydantic in /home/developer/.local/lib/python3.12/site-packages (from google-generativeai) (2.9.2)\n",
      "Requirement already satisfied: tqdm in /home/developer/.local/lib/python3.12/site-packages (from google-generativeai) (4.66.5)\n",
      "Requirement already satisfied: typing-extensions in /home/developer/.local/lib/python3.12/site-packages (from google-generativeai) (4.12.2)\n",
      "Requirement already satisfied: proto-plus<2.0.0dev,>=1.22.3 in /home/developer/.local/lib/python3.12/site-packages (from google-ai-generativelanguage==0.6.10->google-generativeai) (1.24.0)\n",
      "Requirement already satisfied: certifi>=2019.11.17 in /usr/lib/python3/dist-packages (from pinecone-client) (2019.11.28)\n",
      "Requirement already satisfied: pinecone-plugin-inference<2.0.0,>=1.0.3 in /home/developer/.local/lib/python3.12/site-packages (from pinecone-client) (1.1.0)\n",
      "Requirement already satisfied: pinecone-plugin-interface<0.0.8,>=0.0.7 in /home/developer/.local/lib/python3.12/site-packages (from pinecone-client) (0.0.7)\n",
      "Requirement already satisfied: urllib3>=1.26.5 in /home/developer/.local/lib/python3.12/site-packages (from pinecone-client) (2.2.3)\n",
      "Requirement already satisfied: googleapis-common-protos<2.0.dev0,>=1.56.2 in /home/developer/.local/lib/python3.12/site-packages (from google-api-core->google-generativeai) (1.65.0)\n",
      "Requirement already satisfied: requests<3.0.0.dev0,>=2.18.0 in /home/developer/.local/lib/python3.12/site-packages (from google-api-core->google-generativeai) (2.32.3)\n",
      "Requirement already satisfied: cachetools<6.0,>=2.0.0 in /home/developer/.local/lib/python3.12/site-packages (from google-auth>=2.15.0->google-generativeai) (5.5.0)\n",
      "Requirement already satisfied: pyasn1-modules>=0.2.1 in /home/developer/.local/lib/python3.12/site-packages (from google-auth>=2.15.0->google-generativeai) (0.4.1)\n",
      "Requirement already satisfied: rsa<5,>=3.1.4 in /home/developer/.local/lib/python3.12/site-packages (from google-auth>=2.15.0->google-generativeai) (4.9)\n",
      "Requirement already satisfied: httplib2<1.dev0,>=0.19.0 in /home/developer/.local/lib/python3.12/site-packages (from google-api-python-client->google-generativeai) (0.22.0)\n",
      "Requirement already satisfied: google-auth-httplib2<1.0.0,>=0.2.0 in /home/developer/.local/lib/python3.12/site-packages (from google-api-python-client->google-generativeai) (0.2.0)\n",
      "Requirement already satisfied: uritemplate<5,>=3.0.1 in /home/developer/.local/lib/python3.12/site-packages (from google-api-python-client->google-generativeai) (4.1.1)\n",
      "Requirement already satisfied: annotated-types>=0.6.0 in /home/developer/.local/lib/python3.12/site-packages (from pydantic->google-generativeai) (0.7.0)\n",
      "Requirement already satisfied: pydantic-core==2.23.4 in /home/developer/.local/lib/python3.12/site-packages (from pydantic->google-generativeai) (2.23.4)\n",
      "Requirement already satisfied: grpcio<2.0dev,>=1.33.2 in /home/developer/.local/lib/python3.12/site-packages (from google-api-core[grpc]!=2.0.*,!=2.1.*,!=2.10.*,!=2.2.*,!=2.3.*,!=2.4.*,!=2.5.*,!=2.6.*,!=2.7.*,!=2.8.*,!=2.9.*,<3.0.0dev,>=1.34.1->google-ai-generativelanguage==0.6.10->google-generativeai) (1.66.2)\n",
      "Requirement already satisfied: grpcio-status<2.0.dev0,>=1.33.2 in /home/developer/.local/lib/python3.12/site-packages (from google-api-core[grpc]!=2.0.*,!=2.1.*,!=2.10.*,!=2.2.*,!=2.3.*,!=2.4.*,!=2.5.*,!=2.6.*,!=2.7.*,!=2.8.*,!=2.9.*,<3.0.0dev,>=1.34.1->google-ai-generativelanguage==0.6.10->google-generativeai) (1.66.2)\n",
      "Requirement already satisfied: pyparsing!=3.0.0,!=3.0.1,!=3.0.2,!=3.0.3,<4,>=2.4.2 in /home/developer/.local/lib/python3.12/site-packages (from httplib2<1.dev0,>=0.19.0->google-api-python-client->google-generativeai) (3.1.4)\n",
      "Requirement already satisfied: pyasn1<0.7.0,>=0.4.6 in /home/developer/.local/lib/python3.12/site-packages (from pyasn1-modules>=0.2.1->google-auth>=2.15.0->google-generativeai) (0.6.1)\n",
      "Requirement already satisfied: charset-normalizer<4,>=2 in /home/developer/.local/lib/python3.12/site-packages (from requests<3.0.0.dev0,>=2.18.0->google-api-core->google-generativeai) (3.4.0)\n",
      "Requirement already satisfied: idna<4,>=2.5 in /usr/lib/python3/dist-packages (from requests<3.0.0.dev0,>=2.18.0->google-api-core->google-generativeai) (2.8)\n",
      "Note: you may need to restart the kernel to use updated packages.\n"
     ]
    }
   ],
   "source": [
    "#  for installation\n",
    "# pip,install google-generativeai pinecone-client"
   ]
  },
  {
   "cell_type": "code",
   "execution_count": 15,
   "metadata": {},
   "outputs": [],
   "source": [
    "\n",
    "import google.generativeai as genai\n",
    "from pinecone import ServerlessSpec,Pinecone"
   ]
  },
  {
   "cell_type": "code",
   "execution_count": 17,
   "metadata": {},
   "outputs": [],
   "source": [
    "\n",
    "pc = Pinecone(api_key='apikey')\n",
    "genai.configure(api_key=\"apikey\")\n",
    "\n",
    "\n",
    "# Create a serverless index\n",
    "index_name = \"gemini\"\n",
    "pc.create_index(\n",
    "    name=index_name,\n",
    "    dimension=1,\n",
    "    metric=\"cosine\",\n",
    "    spec=ServerlessSpec(\n",
    "        cloud='aws', \n",
    "        region='us-east-1'\n",
    "    ) \n",
    ")   \n",
    "\n",
    "index = pc.Index(index_name)\n"
   ]
  },
  {
   "cell_type": "code",
   "execution_count": 18,
   "metadata": {},
   "outputs": [
    {
     "data": {
      "text/plain": [
       "{'upserted_count': 20}"
      ]
     },
     "execution_count": 18,
     "metadata": {},
     "output_type": "execute_result"
    }
   ],
   "source": [
    "# Function to generate embeddings using Google Gemini\n",
    "def generate_gemini_embedding(text):\n",
    "    result = genai.embed_content(\n",
    "        model=\"models/text-embedding-004\",  # Ensure the model returns 768-dimension embeddings\n",
    "        content=text,\n",
    "        task_type=\"retrieval_document\",\n",
    "        title=f\"Embedding of: {text[:30]}\"\n",
    "    )\n",
    "    embedding = result['embedding'][0]  # Extract the embedding\n",
    "    return embedding\n",
    "\n",
    "chat_history = [\n",
    "    \"Hi there! How are you doing today? | Bot: Hello! I'm doing great, thank you! How can I assist you today\",\n",
    "    \"What's the weather like today in New York? | Bot: Today in New York, it's sunny with a slight chance of rain.\",\n",
    "    \"Great! Do you have any good lunch suggestions? | Bot: Sure! How about trying a new salad recipe?\",\n",
    "    \"That sounds healthy. Any specific recipes? | Bot: You could try a quinoa salad with avocado and chicken.\",\n",
    "    \"Sounds delicious! I'll try it. What about dinner? | Bot: For dinner, you could make grilled salmon with vegetables.\",\n",
    "    \"Thanks for the suggestions! Any dessert ideas? | Bot: How about a simple fruit salad or yogurt with honey?\",\n",
    "    \"Perfect! Now, what are some good exercises? | Bot: You can try a mix of cardio and strength training exercises.\",\n",
    "    \"Any specific recommendations for cardio? | Bot: Running, cycling, and swimming are all excellent cardio exercises.\",\n",
    "    \"I'll start with running. Can you recommend any books? | Bot: 'Atomic Habits' by James Clear is a highly recommended book.\",\n",
    "    \"I'll check it out. What hobbies can I take up? | Bot: You could explore painting, hiking, or learning a new instrument.\",\n",
    "    \"Hiking sounds fun! Any specific trails? | Bot: There are great trails in the Rockies and the Appalachian Mountains.\",\n",
    "    \"I'll plan a trip. What about indoor activities? | Bot: Indoor activities like reading, cooking, or playing board games.\",\n",
    "    \"Nice! Any good board games? | Bot: Settlers of Catan and Ticket to Ride are both excellent choices.\",\n",
    "    \"I'll try them out. Any movie recommendations? | Bot: 'Inception' and 'The Matrix' are must-watch movies.\",\n",
    "    \"I love those movies! Any TV shows? | Bot: 'Breaking Bad' and 'Stranger Things' are very popular.\",\n",
    "    \"Great choices! What about podcasts? | Bot: 'How I Built This' and 'The Daily' are very informative.\",\n",
    "    \"Thanks! What are some good travel destinations? | Bot: Paris, Tokyo, and Bali are amazing travel spots.\",\n",
    "    \"I'll add them to my list. Any packing tips? | Bot: Roll your clothes to save space and use packing cubes.\",\n",
    "    \"That's helpful! What about travel insurance? | Bot: Always get travel insurance for safety and peace of mind.\",\n",
    "    \"Thanks for the tips! Any last advice? | Bot: Just enjoy your journey and make the most out of your experiences.\"\n",
    "]\n",
    "\n",
    "\n",
    "vectors = []\n",
    "\n",
    "for i, message in enumerate(chat_history):\n",
    "    # Generate the embedding for each chat message\n",
    "    embedding = generate_gemini_embedding(message)\n",
    "    \n",
    "    # Create a unique vector ID for each message\n",
    "    vector_id = f\"message-{i+1}\"\n",
    "    \n",
    "    # Split message into user and bot components for metadata\n",
    "    user_message, bot_message = message.split(\"| Bot: \")\n",
    "    \n",
    "    # Append the vector with metadata\n",
    "    vectors.append({\n",
    "        \"id\": vector_id,\n",
    "        \"values\": [embedding],  # embedding as a list of floats\n",
    "        \"metadata\": {\n",
    "            \"user_message\": user_message.strip(),  # Store the user's message\n",
    "            \"bot_message\": bot_message.strip(),    # Store the bot's response\n",
    "            \"message_index\": i+1                   # Add any additional metadata\n",
    "        }\n",
    "    })\n",
    "\n",
    "\n",
    "\n",
    "# Upsert all vectors including metadata\n",
    "index.upsert(vectors=vectors,namespace=\"chat_history\")\n"
   ]
  },
  {
   "cell_type": "code",
   "execution_count": 28,
   "metadata": {},
   "outputs": [],
   "source": [
    "def search_similar_messages(query, top_k=3):\n",
    "    # Generate embedding for the query\n",
    "    query_embedding = generate_gemini_embedding(query)\n",
    "    \n",
    "    # Perform the search in the vector database\n",
    "    # Make sure to request metadata in the response\n",
    "    response = index.query(\n",
    "        vector=query_embedding, \n",
    "        top_k=top_k, \n",
    "        include_metadata=True  # Explicitly include metadata in the response\n",
    "    )\n",
    "    return response['matches']\n",
    "query = \" Can you tell what i have to follow to become fit\"\n",
    "similar_messages = search_similar_messages(query, top_k=3)\n",
    "\n"
   ]
  },
  {
   "cell_type": "code",
   "execution_count": 31,
   "metadata": {},
   "outputs": [
    {
     "name": "stdout",
     "output_type": "stream",
     "text": [
      "Combined Output:   Can you tell what i have to follow to become fit\n"
     ]
    }
   ],
   "source": [
    "class TokenLimitExceededError(Exception):\n",
    "    \"\"\"Custom exception for when the token limit is exceeded.\"\"\"\n",
    "    pass\n",
    "\n",
    "def combine_bot_messages_and_query(similar_messages, query):\n",
    "    # Initialize an empty list to store all bot messages\n",
    "    bot_messages = []\n",
    "    \n",
    "    # Collect bot messages from similar messages\n",
    "    for match in similar_messages:\n",
    "        bot_message = match.get('metadata', {}).get('bot_message')\n",
    "        if bot_message:\n",
    "            bot_messages.append(bot_message)\n",
    "    \n",
    "    # Combine all bot messages and the query into one string\n",
    "    combined_result = \" \".join(bot_messages) + \" \" + query\n",
    "    \n",
    "    # Count the tokens in the combined result\n",
    "    model = genai.GenerativeModel(model_name=\"gemini-1.5-flash\")\n",
    "    \n",
    "    token_response = model.count_tokens(combined_result) \n",
    "    token_count = token_response.total_tokens  # Adjust this line to access the actual token count\n",
    "\n",
    "    # Raise an exception if the token count exceeds the limit\n",
    "    if token_count >= 225:\n",
    "        raise TokenLimitExceededError(\"Combined result exceeds token limit.\")\n",
    "    \n",
    "    return combined_result,token_count\n",
    "\n",
    "\n",
    "\n",
    "try:\n",
    "    combined_query = combine_bot_messages_and_query(similar_messages, query)\n",
    "    print(\"Combined Output:\", combined_query[0])\n",
    "except TokenLimitExceededError as e:\n",
    "    print(f\"Error: {e}\")\n"
   ]
  },
  {
   "cell_type": "code",
   "execution_count": 33,
   "metadata": {},
   "outputs": [
    {
     "name": "stdout",
     "output_type": "stream",
     "text": [
      "  Can you tell what i have to follow to become fit\n",
      "It's great you're looking to get fit! Here's a breakdown of what you need to focus on, but remember, **it's important to consult with a healthcare professional before starting any new exercise program.** \n",
      "\n",
      "**1. Set Realistic Goals**\n",
      "* **Start small:** Don't try to do too much too soon. Aim for gradual progress.\n",
      "* **Make it specific:** Instead of \"lose weight,\" aim for \"lose 1-2 pounds per week\" or \"walk 30 minutes 3 times a week.\"\n",
      "* **Track your progress:** This will help you stay motivated and see how far you've come.\n",
      "\n",
      "**2. Find Activities You Enjoy**\n",
      "* **Variety is key:**  Don't be afraid to mix things up!  \n",
      "* **Explore options:** Try different types of exercise: cardio (running, swimming, cycling), strength training (weights, bodyweight exercises), yoga, dance, etc.\n",
      "* **Make it social:** Exercise with a friend or join\n"
     ]
    }
   ],
   "source": [
    "def final_response(query,token):\n",
    "    print(query)\n",
    "    remaining_token=225-token\n",
    "\n",
    "    generation_config = {\n",
    "    \"temperature\": 1,\n",
    "    \"top_p\": 0.95,\n",
    "    \"top_k\": 64,\n",
    "    \"max_output_tokens\": remaining_token,\n",
    "    \"response_mime_type\": \"text/plain\",\n",
    "    }\n",
    "\n",
    "    model = genai.GenerativeModel(\n",
    "    model_name=\"gemini-1.5-flash\",\n",
    "    generation_config=generation_config\n",
    "    )\n",
    "\n",
    "    response = model.generate_content(query)\n",
    "    return response.text\n",
    "\n",
    "\n",
    "response=final_response(combined_query[0],combined_query[1])\n",
    "print(response)"
   ]
  },
  {
   "cell_type": "code",
   "execution_count": null,
   "metadata": {},
   "outputs": [],
   "source": []
  }
 ],
 "metadata": {
  "kernelspec": {
   "display_name": "Python 3",
   "language": "python",
   "name": "python3"
  },
  "language_info": {
   "codemirror_mode": {
    "name": "ipython",
    "version": 3
   },
   "file_extension": ".py",
   "mimetype": "text/x-python",
   "name": "python",
   "nbconvert_exporter": "python",
   "pygments_lexer": "ipython3",
   "version": "3.12.7"
  }
 },
 "nbformat": 4,
 "nbformat_minor": 2
}
