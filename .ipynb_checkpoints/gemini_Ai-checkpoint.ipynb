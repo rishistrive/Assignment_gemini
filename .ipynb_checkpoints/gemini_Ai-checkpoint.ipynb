{
 "cells": [
  {
   "cell_type": "code",
   "execution_count": 1,
   "metadata": {},
   "outputs": [],
   "source": [
    "# for installation\n",
    "# pip,install google-generativeai pinecone-client"
   ]
  },
  {
   "cell_type": "code",
   "execution_count": 2,
   "metadata": {},
   "outputs": [],
   "source": [
    "\n",
    "import google.generativeai as genai\n",
    "from pinecone import ServerlessSpec,Pinecone"
   ]
  },
  {
   "cell_type": "code",
   "execution_count": 3,
   "metadata": {},
   "outputs": [],
   "source": [
    "\n",
    "pc = Pinecone(api_key='Api_Key')\n",
    "genai.configure(api_key=\"Api_Key\")\n",
    "\n",
    "\n",
    "# Create a serverless index\n",
    "index_name = \"gemini\"\n",
    "pc.create_index(\n",
    "    name=index_name,\n",
    "    dimension=768,\n",
    "    metric=\"cosine\",\n",
    "    spec=ServerlessSpec(\n",
    "        cloud='aws', \n",
    "        region='us-east-1'\n",
    "    ) \n",
    ")   \n",
    "\n",
    "index = pc.Index(index_name)\n"
   ]
  },
  {
   "cell_type": "code",
   "execution_count": 14,
   "metadata": {},
   "outputs": [
    {
     "data": {
      "text/plain": [
       "{'upserted_count': 20}"
      ]
     },
     "execution_count": 14,
     "metadata": {},
     "output_type": "execute_result"
    }
   ],
   "source": [
    "# Function to generate embeddings using Google Gemini\n",
    "def generate_gemini_embedding(text):\n",
    "    result = genai.embed_content(\n",
    "        model=\"models/text-embedding-004\",  \n",
    "        content=text,\n",
    "        task_type=\"SEMANTIC_SIMILARITY\",\n",
    "    )\n",
    "    embedding = result['embedding']\n",
    "    return embedding\n",
    "\n",
    "chat_history = [\n",
    " \"User: Hi there! How are you doing today? | Bot: Hello! I'm doing great, thank you! How can I assist you today?\",\n",
    " \"User: What's the weather like today in New York? | Bot: Today in New York, it's sunny with a slight chance of rain.\",\n",
    " \"User: Great! Do you have any good lunch suggestions? | Bot: Sure! How about trying a new salad recipe?\",\n",
    " \"User: That sounds healthy. Any specific recipes? | Bot: You could try a quinoa salad with avocado and chicken.\",\n",
    " \"User: Sounds delicious! I'll try it. What about dinner? | Bot: For dinner, you could make grilled salmon with vegetables.\",\n",
    " \"User: Thanks for the suggestions! Any dessert ideas? | Bot: How about a simple fruit salad or yogurt with honey?\",\n",
    " \"User: Perfect! Now, what are some good exercises? | Bot: You can try a mix of cardio and strength training exercises.\",\n",
    " \"User: Any specific recommendations for cardio? | Bot: Running, cycling, and swimming are all excellent cardio exercises.\",\n",
    " \"User: I'll start with running. Can you recommend any books? | Bot: 'Atomic Habits' by James Clear is a highly recommended book.\",\n",
    " \"User: I'll check it out. What hobbies can I take up? | Bot: You could explore painting, hiking, or learning a new instrument.\",\n",
    " \"User: Hiking sounds fun! Any specific trails? | Bot: There are great trails in the Rockies and the Appalachian Mountains.\",\n",
    " \"User: I'll plan a trip. What about indoor activities? | Bot: Indoor activities like reading, cooking, or playing board games.\",\n",
    " \"User: Nice! Any good board games? | Bot: Settlers of Catan and Ticket to Ride are both excellent choices.\",\n",
    " \"User: I'll try them out. Any movie recommendations? | Bot: 'Inception' and 'The Matrix' are must-watch movies.\",\n",
    " \"User: I love those movies! Any TV shows? | Bot: 'Breaking Bad' and 'Stranger Things' are very popular.\",\n",
    " \"User: Great choices! What about podcasts? | Bot: 'How I Built This' and 'The Daily' are very informative.\",\n",
    " \"User: Thanks! What are some good travel destinations? | Bot: Paris, Tokyo, and Bali are amazing travel spots.\",\n",
    " \"User: I'll add them to my list. Any packing tips? | Bot: Rollyour clothes to save space and use packing cubes.\",\n",
    " \"User: That's helpful! What about travel insurance? | Bot: Always get travel insurance for safety and peace of mind.\",\n",
    " \"User: Thanks for the tips! Any last advice? | Bot: Just enjoy your journey and make the most out of your experiences.\"\n",
    "]\n",
    "\n",
    "\n",
    "vectors = []\n",
    "\n",
    "for i, message in enumerate(chat_history):\n",
    "    # Generate the embedding for each chat message\n",
    "    user_message, bot_message = message.split(\"| Bot: \")\n",
    "    \n",
    "    embedding = generate_gemini_embedding(message)\n",
    "    \n",
    "    # Create a unique vector ID for each message\n",
    "    vector_id = f\"message-{i+1}\"\n",
    "        \n",
    "    # Append the vector with metadata\n",
    "    vectors.append({\n",
    "        \"id\": vector_id,\n",
    "        \"values\": embedding, \n",
    "        \"metadata\": {\n",
    "            \"user_message\": user_message.strip(),  \n",
    "            \"bot_message\": bot_message.strip(),    \n",
    "            \"message_index\": i+1 \n",
    "        }\n",
    "    })\n",
    "\n",
    "\n",
    "\n",
    "# Upsert all vectors including metadata\n",
    "index.upsert(vectors=vectors,namespace=\"chat_history\")\n"
   ]
  },
  {
   "cell_type": "code",
   "execution_count": 15,
   "metadata": {},
   "outputs": [
    {
     "name": "stdout",
     "output_type": "stream",
     "text": [
      "[{'id': 'message-7',\n",
      " 'metadata': {'bot_message': 'You can try a mix of cardio and strength '\n",
      "                             'training exercises.',\n",
      "              'message_index': 7.0,\n",
      "              'user_message': 'User: Perfect! Now, what are some good '\n",
      "                              'exercises?'},\n",
      " 'score': 0.616634309,\n",
      " 'values': []}, {'id': 'message-8',\n",
      " 'metadata': {'bot_message': 'Running, cycling, and swimming are all excellent '\n",
      "                             'cardio exercises.',\n",
      "              'message_index': 8.0,\n",
      "              'user_message': 'User: Any specific recommendations for cardio?'},\n",
      " 'score': 0.570822239,\n",
      " 'values': []}, {'id': 'message-9',\n",
      " 'metadata': {'bot_message': \"'Atomic Habits' by James Clear is a highly \"\n",
      "                             'recommended book.',\n",
      "              'message_index': 9.0,\n",
      "              'user_message': \"User: I'll start with running. Can you \"\n",
      "                              'recommend any books?'},\n",
      " 'score': 0.55914104,\n",
      " 'values': []}, {'id': 'message-10',\n",
      " 'metadata': {'bot_message': 'You could explore painting, hiking, or learning '\n",
      "                             'a new instrument.',\n",
      "              'message_index': 10.0,\n",
      "              'user_message': \"User: I'll check it out. What hobbies can I \"\n",
      "                              'take up?'},\n",
      " 'score': 0.543005824,\n",
      " 'values': []}]\n"
     ]
    }
   ],
   "source": [
    "def search_similar_messages(query, top_k):\n",
    "    # Generate embedding for the query\n",
    "    query_embedding = generate_gemini_embedding(query)\n",
    "\n",
    "    response = index.query(\n",
    "        namespace=\"chat_history\",\n",
    "        vector=query_embedding, \n",
    "        top_k=top_k, \n",
    "        include_metadata=True  \n",
    "    )\n",
    "    return response['matches']\n",
    "query = \"Do you think it will help me stay fit?\"\n",
    "similar_messages = search_similar_messages(query, top_k=4)\n",
    "print(similar_messages)\n",
    "\n"
   ]
  },
  {
   "cell_type": "code",
   "execution_count": 18,
   "metadata": {},
   "outputs": [],
   "source": [
    "class TokenLimitExceededError(Exception):\n",
    "    \"\"\"Custom exception for when the token limit is exceeded.\"\"\"\n",
    "    pass\n",
    "\n",
    "def combine_bot_messages_and_query(similar_messages, query):\n",
    "    # Initialize an empty list to store all bot messages\n",
    "    bot_messages = []\n",
    "    \n",
    "    # Collect bot messages from similar messages\n",
    "    for match in similar_messages:\n",
    "        bot_message = match.get('metadata', {}).get('bot_message')\n",
    "        if bot_message:\n",
    "            bot_messages.append(bot_message)\n",
    "    \n",
    "    # Combine all bot messages and the query into one string\n",
    "    combined_result = \" \".join(bot_messages) + \" \" + query\n",
    "    \n",
    "    # Count the tokens in the combined result\n",
    "    model = genai.GenerativeModel(model_name=\"gemini-1.5-flash\")\n",
    "    \n",
    "    token_response = model.count_tokens(combined_result) \n",
    "    token_count = token_response.total_tokens  # Adjust this line to access the actual token count\n",
    "\n",
    "    # Raise an exception if the token count exceeds the limit\n",
    "    if token_count >= 225:\n",
    "        raise TokenLimitExceededError(\"Combined result exceeds token limit.\")\n",
    "    \n",
    "    return combined_result,token_count\n",
    "\n",
    "\n",
    "\n",
    "try:\n",
    "    combined_query = combine_bot_messages_and_query(similar_messages, query)\n",
    "except TokenLimitExceededError as e:\n",
    "    print(f\"Error: {e}\")\n"
   ]
  },
  {
   "cell_type": "code",
   "execution_count": 20,
   "metadata": {},
   "outputs": [
    {
     "name": "stdout",
     "output_type": "stream",
     "text": [
      "It sounds like you're gathering ideas for staying fit, which is fantastic!  \n",
      "\n",
      "* **The advice you listed is a great starting point:** \n",
      "    * **Cardio:** Running, cycling, and swimming are excellent for cardiovascular health. \n",
      "    * **Strength Training:** This is crucial for building muscle, increasing bone density, and improving overall strength and mobility.\n",
      "    * **\"Atomic Habits\":** This book is an excellent resource for developing healthy habits that can be applied to fitness and many other areas of life. \n",
      "    * **Creative Pursuits:**  Painting, hiking, and learning a new instrument can provide physical activity while fostering creativity and stress relief, which indirectly contribute to well-being. \n",
      "\n",
      "* **Here are some additional thoughts:** \n",
      "    * **Consistency is Key:** The\n"
     ]
    }
   ],
   "source": [
    "def final_response(query,token):\n",
    "    remaining_token=225-token\n",
    "\n",
    "    generation_config = {\n",
    "    \"temperature\": 1,\n",
    "    \"top_p\": 0.95,\n",
    "    \"top_k\": 64,\n",
    "    \"max_output_tokens\": remaining_token,\n",
    "    \"response_mime_type\": \"text/plain\",\n",
    "    }\n",
    "\n",
    "    model = genai.GenerativeModel(\n",
    "    model_name=\"gemini-1.5-flash\",\n",
    "    generation_config=generation_config\n",
    "    )\n",
    "    \n",
    "    response = model.generate_content(query)\n",
    "    return response.text\n",
    "\n",
    "\n",
    "response=final_response(combined_query[0],combined_query[1])\n",
    "print(response)"
   ]
  }
 ],
 "metadata": {
  "kernelspec": {
   "display_name": "Python 3",
   "language": "python",
   "name": "python3"
  },
  "language_info": {
   "codemirror_mode": {
    "name": "ipython",
    "version": 3
   },
   "file_extension": ".py",
   "mimetype": "text/x-python",
   "name": "python",
   "nbconvert_exporter": "python",
   "pygments_lexer": "ipython3",
   "version": "3.12.7"
  }
 },
 "nbformat": 4,
 "nbformat_minor": 2
}
